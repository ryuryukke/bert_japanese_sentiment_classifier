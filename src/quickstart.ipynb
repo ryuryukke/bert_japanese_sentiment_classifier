{
 "cells": [
  {
   "cell_type": "markdown",
   "metadata": {},
   "source": [
    "## 🚀 QuickStart"
   ]
  },
  {
   "cell_type": "markdown",
   "metadata": {},
   "source": [
    "### Train the model"
   ]
  },
  {
   "cell_type": "code",
   "execution_count": null,
   "metadata": {},
   "outputs": [],
   "source": [
    "from preprocessor import Preprocessor\n",
    "from trainer import Trainer\n",
    "\n",
    "# Create train, valid, test dataloader from the data\n",
    "preprocessor = Preprocessor(\"../config/config.yaml\")\n",
    "train_dataloader, valid_dataloader, test_dataloader = preprocessor()\n",
    "# Train the model \n",
    "trainer = Trainer(\"../config/config.yaml\")\n",
    "trainer(train_dataloader, valid_dataloader, test_dataloader)"
   ]
  },
  {
   "cell_type": "markdown",
   "metadata": {},
   "source": [
    "### Predict with trained model"
   ]
  },
  {
   "cell_type": "code",
   "execution_count": null,
   "metadata": {},
   "outputs": [],
   "source": [
    "# Predict with trained model\n",
    "trainer._test_loop(test_dataloader, True, \"../model/2022_7_31_22_4/epoch_2.pth\")"
   ]
  },
  {
   "cell_type": "markdown",
   "metadata": {},
   "source": [
    "## 🚨 Caution"
   ]
  },
  {
   "cell_type": "markdown",
   "metadata": {},
   "source": [
    "### When you use your own data, you have to shape that in following manner.\n",
    "\n",
    "```python\n",
    "your_own_dataset = [\n",
    "    [pos_sent_1, [neg_flag(=0), pos_flag(=1)]],\n",
    "    [neg_sent_2, [neg_flag(=1), pos_flag(=0)]],\n",
    "    ...,\n",
    "    [pos_sent_n, [neg_flag(=0), pos_flag(=1)]]\n",
    "    ]\n",
    "```"
   ]
  },
  {
   "cell_type": "markdown",
   "metadata": {},
   "source": []
  }
 ],
 "metadata": {
  "kernelspec": {
   "display_name": "Python 3.9.10 64-bit",
   "language": "python",
   "name": "python3"
  },
  "language_info": {
   "codemirror_mode": {
    "name": "ipython",
    "version": 3
   },
   "file_extension": ".py",
   "mimetype": "text/x-python",
   "name": "python",
   "nbconvert_exporter": "python",
   "pygments_lexer": "ipython3",
   "version": "3.9.10"
  },
  "orig_nbformat": 4,
  "vscode": {
   "interpreter": {
    "hash": "aee8b7b246df8f9039afb4144a1f6fd8d2ca17a180786b69acc140d282b71a49"
   }
  }
 },
 "nbformat": 4,
 "nbformat_minor": 2
}
